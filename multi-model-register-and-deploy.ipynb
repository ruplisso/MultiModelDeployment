{
 "cells": [
  {
   "cell_type": "markdown",
   "metadata": {},
   "source": [
    "Copyright (c) Microsoft Corporation. All rights reserved.\n",
    "\n",
    "Licensed under the MIT License."
   ]
  },
  {
   "cell_type": "markdown",
   "metadata": {},
   "source": [
    "![Impressions](https://PixelServer20190423114238.azurewebsites.net/api/impressions/MachineLearningNotebooks/how-to-use-azureml/deployment/deploy-multi-model/multi-model-register-and-deploy.png)"
   ]
  },
  {
   "cell_type": "markdown",
   "metadata": {},
   "source": [
    "# Deploy Multiple Models as Webservice\n",
    "\n",
    "This example shows how to deploy a Webservice with multiple models in step-by-step fashion:\n",
    "\n",
    " 1. Register Models\n",
    " 2. Deploy Models as Webservice"
   ]
  },
  {
   "cell_type": "markdown",
   "metadata": {},
   "source": [
    "## Prerequisites\n",
    "If you are using an Azure Machine Learning Compute Instance Notebook, you are all set. Otherwise, make sure you go through the [configuration](../../../configuration.ipynb) Notebook first if you haven't."
   ]
  },
  {
   "cell_type": "code",
   "execution_count": null,
   "metadata": {},
   "outputs": [],
   "source": [
    "# Check core SDK version number\n",
    "import azureml.core\n",
    "print(\"SDK version:\", azureml.core.VERSION)"
   ]
  },
  {
   "cell_type": "markdown",
   "metadata": {},
   "source": [
    "## Initialize Workspace\n",
    "\n",
    "Initialize a workspace object from persisted configuration."
   ]
  },
  {
   "cell_type": "code",
   "execution_count": null,
   "metadata": {
    "tags": [
     "create workspace"
    ]
   },
   "outputs": [],
   "source": [
    "from azureml.core import Workspace\n",
    "\n",
    "ws = Workspace.from_config()\n",
    "print(ws.name, ws.resource_group, ws.location, ws.subscription_id, sep='\\n')"
   ]
  },
  {
   "cell_type": "markdown",
   "metadata": {},
   "source": [
    "## Register Models"
   ]
  },
  {
   "cell_type": "markdown",
   "metadata": {},
   "source": [
    "In this example, we will be using and registering x number of models\n",
    "\n",
    "First we will train those simple models on the [diabetes dataset](https://scikit-learn.org/stable/datasets/index.html#diabetes-dataset) included with scikit-learn, serializing them to files in the current directory.\n"
   ]
  },
  {
   "cell_type": "code",
   "execution_count": null,
   "metadata": {},
   "outputs": [],
   "source": [
    "import joblib\n",
    "import sklearn\n",
    "import os\n",
    "\n",
    "from sklearn.datasets import load_diabetes\n",
    "from sklearn.linear_model import BayesianRidge, Ridge, LogisticRegression\n",
    "\n",
    "path = \"./models/\"\n",
    "counter = 100\n",
    "\n",
    "if not os.path.exists(path):\n",
    "    os.makedirs(path, exist_ok=True)\n",
    "\n",
    "x, y = load_diabetes(return_X_y=True)\n",
    "\n",
    "# loop on the training using ridge (with alpha varying between 1 and 1+(counter/100)) and dumping phase \n",
    "\n",
    "for a in range(1, counter, 1):\n",
    "\n",
    "    model = Ridge(alpha=1+a/100).fit(x, y)\n",
    "    model_path = str(path) + \"mml_model_\" + str(a) +\".pkl\"\n",
    "    joblib.dump(model, model_path)\n",
    "\n",
    "print(\"Trained models using scikit-learn {}.\".format(sklearn.__version__))"
   ]
  },
  {
   "cell_type": "markdown",
   "metadata": {},
   "source": [
    "Now that we have our trained models locally, we will register them as Models in the workspace.\n",
    "adding tags to recognize them"
   ]
  },
  {
   "cell_type": "code",
   "execution_count": null,
   "metadata": {
    "tags": [
     "register model from file"
    ]
   },
   "outputs": [],
   "source": [
    "from azureml.core.model import Model\n",
    "\n",
    "models_name_selection = []\n",
    "models_selection = []\n",
    "\n",
    "# loop on the registration of the models and creating two lists to be used in the following steps. \n",
    "\n",
    "for i in range(1, counter, 1):\n",
    "    \n",
    "    model_path = str(path) + \"mml_model_\" + str(i) +\".pkl\"\n",
    "    model_name = \"mml_model_\" + str(i)\n",
    "    models_name_selection.append(model_name)\n",
    "    \n",
    "    model_name = Model.register(model_path=model_path,\n",
    "               model_name=model_name,\n",
    "               workspace=ws,\n",
    "               tags={'mml': 'true'})\n",
    "    models_selection.insert(i, model_name)\n"
   ]
  },
  {
   "cell_type": "markdown",
   "metadata": {},
   "source": [
    "\n",
    "Printing the lists :\n"
   ]
  },
  {
   "cell_type": "code",
   "execution_count": null,
   "metadata": {},
   "outputs": [],
   "source": [
    "# print(models_name_selection)\n",
    "# print(*models_selection, sep = \"\\n\")"
   ]
  },
  {
   "cell_type": "markdown",
   "metadata": {},
   "source": [
    "## Write the Entry Script\n",
    "Write the script that will be used to predict on your models"
   ]
  },
  {
   "cell_type": "code",
   "execution_count": null,
   "metadata": {},
   "outputs": [],
   "source": [
    "%%writefile score.py\n",
    "\n",
    "import joblib\n",
    "import json\n",
    "import numpy as np\n",
    "\n",
    "from azureml.core.model import Model\n",
    "\n",
    "def init():\n",
    "\n",
    "    # initiate a list to contains models\n",
    "    # this list will be be automatically populated in the next cell\n",
    "    \n",
    "    models_ws = modellisttobeupdated\n",
    "    \n",
    "    global models\n",
    "    models = {}\n",
    "    i = 0\n",
    "    \n",
    "    # loop on the model name list in order to load each model \n",
    "    # and insert it into a global models dictionary used in the run function\n",
    "    \n",
    "    for mod in models_ws:\n",
    "        \n",
    "        model_path = Model.get_model_path(model_name=mod)\n",
    "        model = joblib.load(model_path)\n",
    "        models[mod]=model\n",
    "        \n",
    "def run(raw_data):\n",
    "    try:\n",
    "        \n",
    "        #get the model_id from the raw data\n",
    "        model_id = str(json.loads(raw_data)['model_id'])        \n",
    "        \n",
    "        #get the data input from the raw data for the model inference\n",
    "        data = json.loads(raw_data)['data']\n",
    "        data = np.array(data)\n",
    "        \n",
    "        #infer the model identified and get results\n",
    "        result = models[model_id].predict(data)\n",
    " \n",
    "        return {\"Prediction\": result.tolist()}\n",
    "        \n",
    "    except Exception as e:\n",
    "        \n",
    "        result = str(e)\n",
    "        return result\n",
    "    "
   ]
  },
  {
   "cell_type": "markdown",
   "metadata": {},
   "source": [
    "\n",
    "Replace modellisttobeupdated with the correct models name list\n"
   ]
  },
  {
   "cell_type": "code",
   "execution_count": null,
   "metadata": {},
   "outputs": [],
   "source": [
    "#read input file\n",
    "fin = open(\"score.py\", \"rt\")\n",
    "#read file contents to string\n",
    "data = fin.read()\n",
    "#replace all occurrences of the required string\n",
    "data = data.replace('modellisttobeupdated', str(models_name_selection))\n",
    "#close the input file\n",
    "fin.close()\n",
    "#open the input file in write mode\n",
    "fin = open(\"score.py\", \"wt\")\n",
    "#override the input file with the resulting data\n",
    "fin.write(data)\n",
    "#close the file\n",
    "fin.close()"
   ]
  },
  {
   "cell_type": "markdown",
   "metadata": {},
   "source": [
    "## Create Environment"
   ]
  },
  {
   "cell_type": "markdown",
   "metadata": {},
   "source": [
    "You can now create and/or use an Environment object when deploying a Webservice. The Environment can have been previously registered with your Workspace, or it will be registered with it as a part of the Webservice deployment. Please note that your environment must include azureml-defaults with version >= 1.0.45 as a pip dependency, because it contains the functionality needed to host the model as a web service.\n",
    "\n",
    "More information can be found in our [using environments notebook](../training/using-environments/using-environments.ipynb)."
   ]
  },
  {
   "cell_type": "code",
   "execution_count": null,
   "metadata": {},
   "outputs": [],
   "source": [
    "from azureml.core import Environment\n",
    "\n",
    "env = Environment(\"deploytocloudenv\")\n",
    "env.python.conda_dependencies.add_pip_package(\"joblib\")\n",
    "env.python.conda_dependencies.add_pip_package(\"numpy\")\n",
    "env.python.conda_dependencies.add_pip_package(\"scikit-learn=={}\".format(sklearn.__version__))"
   ]
  },
  {
   "cell_type": "code",
   "execution_count": null,
   "metadata": {
    "tags": [
     "create image"
    ]
   },
   "outputs": [],
   "source": [
    "from azureml.core.model import InferenceConfig\n",
    "\n",
    "inference_config = InferenceConfig(entry_script=\"score.py\", environment=env)"
   ]
  },
  {
   "cell_type": "markdown",
   "metadata": {},
   "source": [
    "### Deploy Model as Webservice on Azure Container Instance\n",
    "\n",
    "Note that the service creation can take few minutes."
   ]
  },
  {
   "cell_type": "code",
   "execution_count": null,
   "metadata": {
    "tags": [
     "azuremlexception-remarks-sample"
    ]
   },
   "outputs": [],
   "source": [
    "from azureml.core.webservice import AciWebservice\n",
    "\n",
    "aci_service_name = \"aciservice-multimodel-dep\"\n",
    "\n",
    "deployment_config = AciWebservice.deploy_configuration(cpu_cores=1, memory_gb=1)\n",
    "\n",
    "service = Model.deploy(ws, aci_service_name, models_selection, inference_config, deployment_config, overwrite=True)\n",
    "service.wait_for_deployment(True)\n",
    "\n",
    "print(service.state)\n"
   ]
  },
  {
   "cell_type": "markdown",
   "metadata": {},
   "source": [
    "#### Test web service"
   ]
  },
  {
   "cell_type": "code",
   "execution_count": null,
   "metadata": {},
   "outputs": [],
   "source": [
    "import json\n",
    "\n",
    "model_id_value = 'mml_model_99'\n",
    "test_sample = json.dumps({'model_id': model_id_value ,'data': x[0:2].tolist()})\n",
    "\n",
    "prediction = service.run(test_sample)\n",
    "\n",
    "print(prediction)"
   ]
  },
  {
   "cell_type": "markdown",
   "metadata": {},
   "source": [
    "#### Delete ACI to clean up"
   ]
  },
  {
   "cell_type": "code",
   "execution_count": null,
   "metadata": {
    "tags": [
     "deploy service",
     "aci"
    ]
   },
   "outputs": [],
   "source": [
    "service.delete()"
   ]
  }
 ],
 "metadata": {
  "authors": [
   {
    "name": "jenns"
   }
  ],
  "kernelspec": {
   "display_name": "Python 3.6 - AzureML",
   "language": "python",
   "name": "python3-azureml"
  },
  "language_info": {
   "codemirror_mode": {
    "name": "ipython",
    "version": 3
   },
   "file_extension": ".py",
   "mimetype": "text/x-python",
   "name": "python",
   "nbconvert_exporter": "python",
   "pygments_lexer": "ipython3",
   "version": "3.6.9"
  }
 },
 "nbformat": 4,
 "nbformat_minor": 4
}
